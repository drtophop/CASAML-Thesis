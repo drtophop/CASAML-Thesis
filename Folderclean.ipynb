{
  "nbformat": 4,
  "nbformat_minor": 0,
  "metadata": {
    "colab": {
      "provenance": [],
      "authorship_tag": "ABX9TyNwZbSK98YeegPf8HUBPS3M",
      "include_colab_link": true
    },
    "kernelspec": {
      "name": "python3",
      "display_name": "Python 3"
    },
    "language_info": {
      "name": "python"
    }
  },
  "cells": [
    {
      "cell_type": "markdown",
      "metadata": {
        "id": "view-in-github",
        "colab_type": "text"
      },
      "source": [
        "<a href=\"https://colab.research.google.com/github/drtophop/CASAML-Thesis/blob/main/Folderclean.ipynb\" target=\"_parent\"><img src=\"https://colab.research.google.com/assets/colab-badge.svg\" alt=\"Open In Colab\"/></a>"
      ]
    },
    {
      "cell_type": "code",
      "execution_count": 2,
      "metadata": {
        "id": "J3TojkGa-kwB"
      },
      "outputs": [],
      "source": [
        "import os\n",
        "import shutil\n",
        "import tempfile\n",
        "\n",
        "# Create a temporary directory\n",
        "temp_dir = tempfile.mkdtemp()\n",
        "\n"
      ]
    },
    {
      "cell_type": "code",
      "source": [
        "# Set the path to the dataset directory within the temporary directory\n",
        "dataset_dir = os.path.join(temp_dir, 'yolodata')\n",
        "\n",
        "# Perform your data processing and analysis within the temporary directory\n",
        "\n",
        "# Delete the temporary directory and its contents\n",
        "shutil.rmtree(temp_dir)"
      ],
      "metadata": {
        "id": "F5f3hSuc-yuS"
      },
      "execution_count": 3,
      "outputs": []
    }
  ]
}